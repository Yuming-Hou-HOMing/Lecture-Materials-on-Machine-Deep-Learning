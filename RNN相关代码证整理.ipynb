{
 "cells": [
  {
   "cell_type": "markdown",
   "metadata": {},
   "source": [
    "##  RNN (Recurrent Neural Network) 循环神经网络\n",
    "\n",
    "- 自归回模型 Autoregression (马尔可夫模型)\n",
    "- 隐变量自回归模型\n",
    "    - RNN `循环神经网络`\n",
    "    - f(x, h) = (x@wx + h@wh) + b = output, h+1\n",
    "    \n",
    "![image](https://zh.d2l.ai/_images/rnn.svg)"
   ]
  },
  {
   "cell_type": "markdown",
   "metadata": {},
   "source": "### 循环神经网络结构"
  },
  {
   "cell_type": "code",
   "execution_count": 1,
   "metadata": {},
   "outputs": [],
   "source": [
    "import torch\n",
    "import torch.nn as nn"
   ]
  },
  {
   "cell_type": "code",
   "execution_count": 3,
   "metadata": {},
   "outputs": [],
   "source": [
    "x = torch.randn(3, 1)  # [batch_size, input_size]\n",
    "h0 = torch.randn(3, 4)  # [batch_size, hiiden_size]\n",
    "\n",
    "weight_x = torch.randn(1, 4)  # [input_size, hidden_size]\n",
    "weight_h = torch.randn(4, 4)  # [hidden_size, hidden_size]"
   ]
  },
  {
   "cell_type": "code",
   "execution_count": 15,
   "metadata": {},
   "outputs": [
    {
     "data": {
      "text/plain": [
       "tensor([[-0.3609, -4.3567,  1.1938,  2.4027],\n",
       "        [-2.3005, -4.8092,  0.9540,  3.4635],\n",
       "        [-1.1433, -4.6062, -1.2398,  3.5031]])"
      ]
     },
     "execution_count": 15,
     "metadata": {},
     "output_type": "execute_result"
    }
   ],
   "source": [
    "h1 = torch.cat((x, h), dim=1) @ torch.cat((weight_x, weight_h), dim=0)\n",
    "h1"
   ]
  },
  {
   "cell_type": "code",
   "execution_count": 17,
   "metadata": {},
   "outputs": [
    {
     "data": {
      "text/plain": [
       "torch.Size([3, 10])"
      ]
     },
     "execution_count": 17,
     "metadata": {},
     "output_type": "execute_result"
    }
   ],
   "source": [
    "weight_output = torch.randn(4, 10) # [hidden_size, output_size]\n",
    "output = h1 @ weight_output\n",
    "output.shape  # [batch_size, output_size]"
   ]
  },
  {
   "cell_type": "code",
   "execution_count": 68,
   "metadata": {},
   "outputs": [],
   "source": [
    "class RNNCell(nn.Module):\n",
    "    \"\"\" 循环神经网络单元 \"\"\"\n",
    "    def __init__(self, input_size, hidden_size, output_size):\n",
    "        super().__init__()\n",
    "        self.hidden_size = hidden_size\n",
    "        self.weight_hidden = nn.Linear(input_size+hidden_size, hidden_size)\n",
    "        self.weight_output = nn.Linear(hidden_size, output_size)\n",
    "          \n",
    "    def forward(self, x, hidden=None, batch_first=True):\n",
    "        \"\"\" 前向传播方法 \"\"\"\n",
    "        # x: [batch_size, seq_len, input_size(embedding_size)]\n",
    "        # hidden: [batch_size, hidden_size]\n",
    "        if hidden is None:\n",
    "            hidden = torch.randn(x.shape[0], self.hidden_size)\n",
    "        if batch_first:\n",
    "            x = x.transpose(0, 1)  # x: [seq_len, batch_size, input_size(embedding_size)]\n",
    "        \n",
    "        hiddens = []\n",
    "        outputs = []\n",
    "        for step in range(x.shape[0]):\n",
    "            # x[step]: [batch_size, input_size]\n",
    "            # hidden: [batch_size, hidden_size]\n",
    "            combined = torch.cat((x[step], hidden), dim=1)  # combined: [batch_size, input_size+hidden_size]\n",
    "            hidden = torch.tanh(self.weight_hidden(combined))  # hidden: [batch_size, hidden_size]\n",
    "            output = torch.tanh(self.weight_output(hidden))  # output: [batch_size, output_size]\n",
    "            \n",
    "            hiddens.append(hidden)\n",
    "            outputs.append(output)\n",
    "        \n",
    "        return torch.stack(outputs).transpose(0, 1)"
   ]
  },
  {
   "cell_type": "code",
   "execution_count": 74,
   "metadata": {},
   "outputs": [],
   "source": [
    "class RNN(nn.Module):\n",
    "    \"\"\" 循环神经网络 \"\"\"\n",
    "    def __init__(self):\n",
    "        super().__init__()\n",
    "        self.rnn = nn.Sequential(RNNCell(16, 32, 64), \n",
    "                                 nn.Tanh(), \n",
    "                                 RNNCell(64, 128, 256), \n",
    "                                 nn.Tanh())\n",
    "        \n",
    "        self.fc = nn.Sequential(nn.Flatten(), nn.Linear(10*256, 2))\n",
    "        \n",
    "    def forward(self, x):\n",
    "        \"\"\" 前向传播方法 \"\"\"\n",
    "        output = self.rnn(x)\n",
    "        return self.fc(output)"
   ]
  },
  {
   "cell_type": "code",
   "execution_count": 75,
   "metadata": {},
   "outputs": [],
   "source": [
    "batch_size = 16\n",
    "seq_len = 10\n",
    "\n",
    "input_size = 16\n",
    "hidden_size = 32\n",
    "output_size = 64\n",
    "\n",
    "model = RNNCell(input_size, hidden_size, output_size)\n",
    "\n",
    "x = torch.randn(batch_size, seq_len, input_size)\n",
    "outputs = model(x)"
   ]
  },
  {
   "cell_type": "code",
   "execution_count": 79,
   "metadata": {},
   "outputs": [
    {
     "data": {
      "text/plain": [
       "torch.Size([16, 10, 16])"
      ]
     },
     "execution_count": 79,
     "metadata": {},
     "output_type": "execute_result"
    }
   ],
   "source": [
    "x.shape"
   ]
  },
  {
   "cell_type": "code",
   "execution_count": 81,
   "metadata": {},
   "outputs": [
    {
     "data": {
      "text/plain": [
       "tensor([[-0.0850, -0.0285],\n",
       "        [-0.0270,  0.0439],\n",
       "        [-0.0709,  0.0682],\n",
       "        [ 0.0505, -0.0619],\n",
       "        [-0.0176, -0.0749],\n",
       "        [-0.0059,  0.0223],\n",
       "        [ 0.0566, -0.0268],\n",
       "        [ 0.0534, -0.0296],\n",
       "        [ 0.0128,  0.0489],\n",
       "        [ 0.0314, -0.0501],\n",
       "        [ 0.0638,  0.0332],\n",
       "        [ 0.0377, -0.0062],\n",
       "        [ 0.0488, -0.0040],\n",
       "        [ 0.0104,  0.0581],\n",
       "        [ 0.0048, -0.0259],\n",
       "        [ 0.0195, -0.0617]], grad_fn=<AddmmBackward>)"
      ]
     },
     "execution_count": 81,
     "metadata": {},
     "output_type": "execute_result"
    }
   ],
   "source": [
    "model = RNN()\n",
    "output = model(x)\n",
    "output"
   ]
  },
  {
   "cell_type": "markdown",
   "metadata": {},
   "source": [
    "### 基于循环神经网络的文本情感分析\n",
    "\n",
    "#### 1 构建模型"
   ]
  },
  {
   "cell_type": "code",
   "execution_count": 105,
   "metadata": {},
   "outputs": [],
   "source": [
    "class TextSentimentClassifer(nn.Module):\n",
    "    \"\"\" 文本情感分类器 \"\"\"\n",
    "    def __init__(self, vocab_size, embedding_size, hidden_size, num_layers, seq_len):\n",
    "        super().__init__()\n",
    "        self.num_layers = num_layers\n",
    "        self.hidden_size = hidden_size\n",
    "        \n",
    "        self.embedding = nn.Embedding(vocab_size, embedding_size)\n",
    "        self.rnn = nn.RNN(input_size=embedding_size, \n",
    "                          hidden_size=hidden_size, \n",
    "                          num_layers=num_layers)\n",
    "        self.fc = nn.Sequential(nn.Flatten(), \n",
    "                                nn.ReLU(), \n",
    "                                nn.Linear(seq_len*hidden_size, 2))\n",
    "        \n",
    "    def forward(self, x):\n",
    "        \"\"\" 前向传播方法 \"\"\"\n",
    "        # x: [batch_size, seq_len]\n",
    "        embedded = self.embedding(x)  # [batch_size, seq_len, embedding_size]\n",
    "        h0 = torch.randn(self.num_layers, embedded.shape[0], self.hidden_size)\n",
    "        output, hn = self.rnn(embedded.transpose(0, 1), h0)  # output: [seq_len, batch_size, hidden_size]\n",
    "        # output: [batch_size, seq_len, hidden_size]\n",
    "        return self.fc(output.transpose(0, 1))"
   ]
  },
  {
   "cell_type": "code",
   "execution_count": 110,
   "metadata": {},
   "outputs": [
    {
     "data": {
      "text/plain": [
       "torch.Size([8, 2])"
      ]
     },
     "execution_count": 110,
     "metadata": {},
     "output_type": "execute_result"
    }
   ],
   "source": [
    "model = TextSentimentClassifer(1250, 16, 32, 2, 10)\n",
    "x = torch.zeros(8, 10, dtype=torch.long)\n",
    "output = model(x)\n",
    "output.shape"
   ]
  },
  {
   "cell_type": "markdown",
   "metadata": {},
   "source": "#### 2 构建数据集"
  },
  {
   "cell_type": "code",
   "execution_count": 199,
   "metadata": {},
   "outputs": [
    {
     "data": {
      "text/html": [
       "<div>\n",
       "<style scoped>\n",
       "    .dataframe tbody tr th:only-of-type {\n",
       "        vertical-align: middle;\n",
       "    }\n",
       "\n",
       "    .dataframe tbody tr th {\n",
       "        vertical-align: top;\n",
       "    }\n",
       "\n",
       "    .dataframe thead th {\n",
       "        text-align: right;\n",
       "    }\n",
       "</style>\n",
       "<table border=\"1\" class=\"dataframe\">\n",
       "  <thead>\n",
       "    <tr style=\"text-align: right;\">\n",
       "      <th></th>\n",
       "      <th>review_body</th>\n",
       "      <th>sentiment</th>\n",
       "    </tr>\n",
       "  </thead>\n",
       "  <tbody>\n",
       "    <tr>\n",
       "      <th>0</th>\n",
       "      <td>Great love it</td>\n",
       "      <td>1</td>\n",
       "    </tr>\n",
       "    <tr>\n",
       "      <th>1</th>\n",
       "      <td>Lots of ads&lt;br /&gt;Slow processing speed&lt;br /&gt;Oc...</td>\n",
       "      <td>0</td>\n",
       "    </tr>\n",
       "    <tr>\n",
       "      <th>2</th>\n",
       "      <td>Excellent unit.  The versatility of this table...</td>\n",
       "      <td>1</td>\n",
       "    </tr>\n",
       "    <tr>\n",
       "      <th>3</th>\n",
       "      <td>I bought this on Amazon Prime so I ended up bu...</td>\n",
       "      <td>1</td>\n",
       "    </tr>\n",
       "    <tr>\n",
       "      <th>4</th>\n",
       "      <td>All Amazon products continue to meet my expect...</td>\n",
       "      <td>1</td>\n",
       "    </tr>\n",
       "    <tr>\n",
       "      <th>...</th>\n",
       "      <td>...</td>\n",
       "      <td>...</td>\n",
       "    </tr>\n",
       "    <tr>\n",
       "      <th>30841</th>\n",
       "      <td>[[VIDEOID:moP3B6GS5RL8LY]]I purchased the orig...</td>\n",
       "      <td>1</td>\n",
       "    </tr>\n",
       "    <tr>\n",
       "      <th>30842</th>\n",
       "      <td>I'm writing this review with the benefit of be...</td>\n",
       "      <td>1</td>\n",
       "    </tr>\n",
       "    <tr>\n",
       "      <th>30843</th>\n",
       "      <td>I purchased this Kindle for my grandma, becaus...</td>\n",
       "      <td>1</td>\n",
       "    </tr>\n",
       "    <tr>\n",
       "      <th>30844</th>\n",
       "      <td>I bought my tablet Fire HD 7 at Best Buy on th...</td>\n",
       "      <td>1</td>\n",
       "    </tr>\n",
       "    <tr>\n",
       "      <th>30845</th>\n",
       "      <td>Am impressive piece of hardware for the $. No ...</td>\n",
       "      <td>1</td>\n",
       "    </tr>\n",
       "  </tbody>\n",
       "</table>\n",
       "<p>30846 rows × 2 columns</p>\n",
       "</div>"
      ],
      "text/plain": [
       "                                             review_body  sentiment\n",
       "0                                          Great love it          1\n",
       "1      Lots of ads<br />Slow processing speed<br />Oc...          0\n",
       "2      Excellent unit.  The versatility of this table...          1\n",
       "3      I bought this on Amazon Prime so I ended up bu...          1\n",
       "4      All Amazon products continue to meet my expect...          1\n",
       "...                                                  ...        ...\n",
       "30841  [[VIDEOID:moP3B6GS5RL8LY]]I purchased the orig...          1\n",
       "30842  I'm writing this review with the benefit of be...          1\n",
       "30843  I purchased this Kindle for my grandma, becaus...          1\n",
       "30844  I bought my tablet Fire HD 7 at Best Buy on th...          1\n",
       "30845  Am impressive piece of hardware for the $. No ...          1\n",
       "\n",
       "[30846 rows x 2 columns]"
      ]
     },
     "execution_count": 199,
     "metadata": {},
     "output_type": "execute_result"
    }
   ],
   "source": [
    "import pandas as pd\n",
    "\n",
    "df_reviews = pd.read_csv(\"../data/Amazon-Product-Reviews - Amazon Product Review.csv\").dropna()[[\"review_body\", \"sentiment\"]]\n",
    "# df_reviews = df_reviews.head(1000)  # ToDo: 使用全量数据\n",
    "df_reviews"
   ]
  },
  {
   "cell_type": "code",
   "execution_count": 200,
   "metadata": {},
   "outputs": [],
   "source": [
    "class Vocab:\n",
    "    \"\"\" 用于存储单词词元的词典类 \"\"\"\n",
    "    def __init__(self):\n",
    "        self.word2idx = {\"<PAD>\": 0}\n",
    "        self.idx2word = [\"<PAD>\"]\n",
    "        \n",
    "    def add(self, word):\n",
    "        \"\"\" 用于向词典中添加新的单词 \"\"\"\n",
    "        if word not in self.idx2word:\n",
    "            self.word2idx[word] = len(self.idx2word)\n",
    "            self.idx2word.append(word)\n",
    "            \n",
    "    def __len__(self):\n",
    "        \"\"\" 用于返回该词典的长度 \"\"\"\n",
    "        return len(self.idx2word)"
   ]
  },
  {
   "cell_type": "code",
   "execution_count": 201,
   "metadata": {},
   "outputs": [
    {
     "data": {
      "text/plain": [
       "35792"
      ]
     },
     "execution_count": 201,
     "metadata": {},
     "output_type": "execute_result"
    }
   ],
   "source": [
    "from typing import List\n",
    "\n",
    "def text_preprocessing(doc: str)->List[str]:\n",
    "    \"\"\" 文本预处理函数 \"\"\"\n",
    "    stop_words = [\"(\", \")\", \",\", \".\", \"?\", \"!\", \"=\", \"<\", \">\", \"[\", \"]\", \"\"]\n",
    "    doc = doc.replace(\"<br />\", \" \")\n",
    "    return [item.lower() for item in doc.strip().split(\" \") if item not in stop_words]\n",
    "\n",
    "vocab = Vocab()\n",
    "\n",
    "data = []\n",
    "for idx, row in df_reviews.iterrows():\n",
    "    word_list = text_preprocessing(row.review_body)\n",
    "    for word in word_list:\n",
    "        vocab.add(word)\n",
    "    data.append([vocab.word2idx.get(word) for word in word_list])\n",
    "        \n",
    "len(vocab)"
   ]
  },
  {
   "cell_type": "code",
   "execution_count": 178,
   "metadata": {},
   "outputs": [],
   "source": [
    "from torch.utils.data import Dataset, DataLoader\n",
    "\n",
    "class AmazonReviewsDataset(Dataset):\n",
    "    \"\"\" 商品评价数据集 \"\"\"\n",
    "    def __init__(self, data, label, seq_len=30):\n",
    "        self.data = []\n",
    "        for line in data:\n",
    "            if len(line)>=seq_len:\n",
    "                self.data.append(line[:seq_len])\n",
    "            else:\n",
    "                self.data.append(line + [0]*(seq_len-len(line)))\n",
    "        self.label = label\n",
    "        \n",
    "    def __len__(self):\n",
    "        return len(self.data)\n",
    "    \n",
    "    def __getitem__(self, idx):\n",
    "        return torch.tensor(self.data[idx], dtype=torch.long), \n",
    "    torch.tensor(self.label[idx], dtype=torch.long)\n",
    "        \n",
    "dataset = AmazonReviewsDataset(data, df_reviews.sentiment.values)"
   ]
  },
  {
   "cell_type": "code",
   "execution_count": 183,
   "metadata": {},
   "outputs": [
    {
     "data": {
      "text/plain": [
       "(torch.Size([16, 30]), torch.Size([16]))"
      ]
     },
     "execution_count": 183,
     "metadata": {},
     "output_type": "execute_result"
    }
   ],
   "source": [
    "x, y = dataset[:16]\n",
    "x.shape, y.shape"
   ]
  },
  {
   "cell_type": "markdown",
   "metadata": {},
   "source": "#### 3 训练模型"
  },
  {
   "cell_type": "code",
   "execution_count": 184,
   "metadata": {},
   "outputs": [],
   "source": [
    "batch_size = 16\n",
    "embedding_size = 32\n",
    "hidden_size = 64\n",
    "num_layers = 2\n",
    "seq_len = 30\n",
    "\n",
    "dataset = AmazonReviewsDataset(data, df_reviews.sentiment.values, seq_len)\n",
    "dataloader = DataLoader(dataset, batch_size=batch_size, shuffle=True)"
   ]
  },
  {
   "cell_type": "code",
   "execution_count": 186,
   "metadata": {},
   "outputs": [],
   "source": [
    "def train_model(model, dataloader, loss_func, optimizer):\n",
    "    \"\"\" 模型训练函数 \"\"\"\n",
    "    total_loss = 0.\n",
    "    for x, y in dataloader:\n",
    "        y_hat = model(x)\n",
    "        loss = loss_func(y_hat, y)\n",
    "        \n",
    "        optimizer.zero_grad()\n",
    "        loss.backward()\n",
    "        optimizer.step()\n",
    "        \n",
    "        total_loss += loss.item()\n",
    "        \n",
    "    return total_loss/len(dataloader)"
   ]
  },
  {
   "cell_type": "code",
   "execution_count": 189,
   "metadata": {},
   "outputs": [],
   "source": [
    "model = TextSentimentClassifer(len(vocab), embedding_size, hidden_size, num_layers, seq_len)\n",
    "loss_func = nn.CrossEntropyLoss()\n",
    "optimizer = torch.optim.Adam(model.parameters(), lr=1e-3)"
   ]
  },
  {
   "cell_type": "code",
   "execution_count": 190,
   "metadata": {},
   "outputs": [
    {
     "name": "stdout",
     "output_type": "stream",
     "text": [
      "Epoch 1 loss: 0.5132\n",
      "Epoch 2 loss: 0.4335\n",
      "Epoch 3 loss: 0.3509\n",
      "Epoch 4 loss: 0.2957\n",
      "Epoch 5 loss: 0.2018\n",
      "Epoch 6 loss: 0.1381\n",
      "Epoch 7 loss: 0.097\n",
      "Epoch 8 loss: 0.0717\n",
      "Epoch 9 loss: 0.0501\n",
      "Epoch 10 loss: 0.0339\n",
      "Epoch 11 loss: 0.028\n",
      "Epoch 12 loss: 0.0177\n",
      "Epoch 13 loss: 0.0113\n",
      "Epoch 14 loss: 0.0103\n",
      "Epoch 15 loss: 0.0083\n",
      "Epoch 16 loss: 0.0054\n",
      "Epoch 17 loss: 0.0066\n",
      "Epoch 18 loss: 0.005\n",
      "Epoch 19 loss: 0.0035\n",
      "Epoch 20 loss: 0.0032\n",
      "Epoch 21 loss: 0.0024\n",
      "Epoch 22 loss: 0.0016\n",
      "Epoch 23 loss: 0.0015\n",
      "Epoch 24 loss: 0.0014\n",
      "Epoch 25 loss: 0.0011\n",
      "Epoch 26 loss: 0.001\n",
      "Epoch 27 loss: 0.0009\n",
      "Epoch 28 loss: 0.0007\n",
      "Epoch 29 loss: 0.0007\n",
      "Epoch 30 loss: 0.0006\n",
      "Epoch 31 loss: 0.0006\n",
      "Epoch 32 loss: 0.0005\n",
      "Epoch 33 loss: 0.0005\n",
      "Epoch 34 loss: 0.0004\n",
      "Epoch 35 loss: 0.0004\n",
      "Epoch 36 loss: 0.0004\n",
      "Epoch 37 loss: 0.0004\n",
      "Epoch 38 loss: 0.0003\n",
      "Epoch 39 loss: 0.0003\n",
      "Epoch 40 loss: 0.0003\n",
      "Epoch 41 loss: 0.0003\n",
      "Epoch 42 loss: 0.0003\n",
      "Epoch 43 loss: 0.0002\n",
      "Epoch 44 loss: 0.0002\n",
      "Epoch 45 loss: 0.0002\n",
      "Epoch 46 loss: 0.0002\n",
      "Epoch 47 loss: 0.0002\n",
      "Epoch 48 loss: 0.0002\n",
      "Epoch 49 loss: 0.0002\n",
      "Epoch 50 loss: 0.0002\n"
     ]
    }
   ],
   "source": [
    "n_epoch = 50\n",
    "\n",
    "train_loss = []\n",
    "for i in range(n_epoch):\n",
    "    loss = train_model(model, dataloader, loss_func, optimizer)\n",
    "    train_loss.append(loss)\n",
    "    print(f\"Epoch {i+1} loss: {round(loss, 4)}\")"
   ]
  },
  {
   "cell_type": "code",
   "execution_count": 191,
   "metadata": {},
   "outputs": [
    {
     "data": {
      "image/png": "[encoded data removed]",
      "text/plain": [
       "<Figure size 864x576 with 1 Axes>"
      ]
     },
     "metadata": {
      "needs_background": "light"
     },
     "output_type": "display_data"
    }
   ],
   "source": [
    "import matplotlib.pyplot as plt\n",
    "import os\n",
    "os.environ['KMP_DUPLICATE_LIB_OK'] = 'True'\n",
    "\n",
    "plt.figure(figsize=(12, 8))\n",
    "plt.plot(train_loss, label=\"train loss\")\n",
    "plt.title(\"Model Loss\")\n",
    "plt.grid()\n",
    "plt.legend()\n",
    "plt.show()"
   ]
  },
  {
   "cell_type": "markdown",
   "metadata": {},
   "source": ""
  }
 ],
 "metadata": {
  "kernelspec": {
   "display_name": "Python 3",
   "language": "python",
   "name": "python3"
  },
  "language_info": {
   "codemirror_mode": {
    "name": "ipython",
    "version": 3
   },
   "file_extension": ".py",
   "mimetype": "text/x-python",
   "name": "python",
   "nbconvert_exporter": "python",
   "pygments_lexer": "ipython3",
   "version": "3.7.3"
  }
 },
 "nbformat": 4,
 "nbformat_minor": 2
}
