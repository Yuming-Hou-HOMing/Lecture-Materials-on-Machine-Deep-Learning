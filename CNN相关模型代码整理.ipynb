{
 "cells": [
  {
   "metadata": {},
   "cell_type": "markdown",
   "source": [
    "**CNN**_lecture笔记整理：\n",
    "---\n",
    "---\n",
    "---\n",
    "---"
   ],
   "id": "114ea6ab3292e878"
  },
  {
   "metadata": {},
   "cell_type": "markdown",
   "source": [
    "导论:二维**卷积**神经网络层**基本结构**\n",
    "---"
   ],
   "id": "e080dacf2ea741fb"
  },
  {
   "metadata": {
    "ExecuteTime": {
     "end_time": "2025-04-14T10:49:38.318937Z",
     "start_time": "2025-04-14T10:49:38.287916Z"
    }
   },
   "cell_type": "code",
   "source": [
    "import torch.nn as nn\n",
    "\n",
    "\n",
    "class Conv2d(nn.Module):\n",
    "    \"\"\" 二维卷积神经网络层 \"\"\"\n",
    "    def __init__(self, kernel_size):\n",
    "        super().__init__()\n",
    "        self.weight = nn.Parameter(torch.rand(kernel_size)) #根据大小随机生成的卷积核\n",
    "        self.bias = nn.Parameter(torch.zeros(1))\n",
    "\n",
    "    def forward(self, x):\n",
    "        \"\"\" 前向传播方法 \"\"\"\n",
    "        return corr2d(x, self.weight) + self.bias"
   ],
   "id": "4a4731cb7c5ccbe9",
   "outputs": [],
   "execution_count": 17
  },
  {
   "metadata": {},
   "cell_type": "markdown",
   "source": [
    "可见前向传播中返回corr2d(x,k)———****卷积操作函数****，\n",
    "以下是**卷积操作函数**的代码⬇"
   ],
   "id": "3cade5346b289d03"
  },
  {
   "metadata": {
    "ExecuteTime": {
     "end_time": "2025-04-14T10:49:38.345895Z",
     "start_time": "2025-04-14T10:49:38.334533Z"
    }
   },
   "cell_type": "code",
   "source": [
    "import torch\n",
    "import numpy as np\n",
    "\n",
    "def corr2d(X, Kernal):\n",
    "    \"\"\"实现二维互相关运算\n",
    "param X: 输入张量，形状为 (height_X, width_X)\n",
    "param K: 卷积核张量，形状为 (height_K, width_K)\n",
    "return: 输出张量，形状为 (height_X - height_K + 1, width_X - width_K + 1)\"\"\"\n",
    "\n",
    "    h, w = Kernal.shape  # 获取卷积核K的高度和宽度\n",
    "    Y = torch.zeros((X.shape[0] - h + 1, X.shape[1] - w + 1))\n",
    "    for i in range(Y.shape[0]):\n",
    "        for j in range(Y.shape[1]):\n",
    "            # 从输入张量X中取出与卷积核K大小相同的子区域\n",
    "            sub_X = X[i:i + h, j:j + w]\n",
    "            # 将子区域与卷积核K对应元素相乘后求和，得到输出张量Y中位置(i, j)的值\n",
    "            Y[i, j] = (sub_X * Kernal).sum()\n",
    "    return Y"
   ],
   "id": "22a69319514ee781",
   "outputs": [],
   "execution_count": 18
  },
  {
   "metadata": {},
   "cell_type": "markdown",
   "source": "**实例化**此模型，导入数据运行",
   "id": "317f1852c969d48e"
  },
  {
   "metadata": {
    "ExecuteTime": {
     "end_time": "2025-04-14T10:49:38.416799Z",
     "start_time": "2025-04-14T10:49:38.398849Z"
    }
   },
   "cell_type": "code",
   "source": [
    "import numpy as np\n",
    "model1 = Conv2d(kernel_size=(2, 2))\n",
    "x1 = torch.tensor([[0, 1, 2], [3, 4, 5], [6, 7, 8]])\n",
    "output1=model1(x1)\n",
    "print(output1)\n"
   ],
   "id": "e42f80b3318a3b62",
   "outputs": [
    {
     "name": "stdout",
     "output_type": "stream",
     "text": [
      "tensor([[ 4.6906,  7.1507],\n",
      "        [12.0709, 14.5310]], grad_fn=<AddBackward0>)\n"
     ]
    }
   ],
   "execution_count": 19
  },
  {
   "metadata": {},
   "cell_type": "markdown",
   "source": "nn.Conv2d 是 PyTorch 框架中系统**自带的**二维卷积层类,如下是参数使用语法",
   "id": "a4d42bdc2435ce0d"
  },
  {
   "metadata": {
    "ExecuteTime": {
     "end_time": "2025-04-14T10:49:38.466442Z",
     "start_time": "2025-04-14T10:49:38.446147Z"
    }
   },
   "cell_type": "code",
   "source": [
    "model = nn.Conv2d(in_channels=1, out_channels=16, kernel_size=3, stride=1, padding=0)\n",
    "model"
   ],
   "id": "97d8c5fbcf9e7ab1",
   "outputs": [
    {
     "data": {
      "text/plain": [
       "Conv2d(1, 16, kernel_size=(3, 3), stride=(1, 1))"
      ]
     },
     "execution_count": 20,
     "metadata": {},
     "output_type": "execute_result"
    }
   ],
   "execution_count": 20
  },
  {
   "metadata": {},
   "cell_type": "markdown",
   "source": "___",
   "id": "27a6072461bb42cd"
  },
  {
   "metadata": {},
   "cell_type": "markdown",
   "source": [
    "用**线性**神经网络对Fasion-MNIST任务进行**分类识别**\n",
    "---\n"
   ],
   "id": "9afd5e1802a5cd4b"
  },
  {
   "metadata": {},
   "cell_type": "markdown",
   "source": "导入训练所需数据集",
   "id": "b764c2db785a7539"
  },
  {
   "metadata": {
    "ExecuteTime": {
     "end_time": "2025-04-14T10:49:38.577151Z",
     "start_time": "2025-04-14T10:49:38.494189Z"
    }
   },
   "cell_type": "code",
   "source": [
    "import torchvision\n",
    "from torchvision import transforms\n",
    "\n",
    "trans = transforms.ToTensor()\n",
    "mnist_train = torchvision.datasets.FashionMNIST(root=\"../data\", train=True, transform=trans, download = True)\n",
    "mnist_test = torchvision.datasets.FashionMNIST(root=\"../data\", train=False, transform=trans, download = True)\n",
    "\n",
    "len(mnist_train), len(mnist_test)"
   ],
   "id": "93274849f06d9c26",
   "outputs": [
    {
     "data": {
      "text/plain": [
       "(60000, 10000)"
      ]
     },
     "execution_count": 21,
     "metadata": {},
     "output_type": "execute_result"
    }
   ],
   "execution_count": 21
  },
  {
   "metadata": {
    "ExecuteTime": {
     "end_time": "2025-04-14T10:49:38.640224Z",
     "start_time": "2025-04-14T10:49:38.626655Z"
    }
   },
   "cell_type": "code",
   "source": [
    "import torch.nn as nn\n",
    "\n",
    "class LinearClassifier(nn.Module):\n",
    "    \"\"\" 基于线性神经网络的分类模型 \"\"\"\n",
    "    def __init__(self):\n",
    "        super().__init__()\n",
    "        self.fc = nn.Sequential(nn.Linear(784, 256),\n",
    "                                nn.ReLU(),\n",
    "                                nn.Linear(256, 10))\n",
    "\n",
    "    def forward(self, x):\n",
    "        \"\"\" 前向传播方法 \"\"\"\n",
    "        return self.fc(x)\n",
    "\n",
    "model = LinearClassifier()"
   ],
   "id": "ca7477ef81444e98",
   "outputs": [],
   "execution_count": 22
  },
  {
   "metadata": {
    "ExecuteTime": {
     "end_time": "2025-04-14T10:49:38.669996Z",
     "start_time": "2025-04-14T10:49:38.651991Z"
    }
   },
   "cell_type": "code",
   "source": [
    "from torch.utils.data import DataLoader\n",
    "\n",
    "train_dataloader = DataLoader(mnist_train, batch_size=256, shuffle=True)\n",
    "test_dataloader = DataLoader(mnist_test, batch_size=256, shuffle=False)\n",
    "len(train_dataloader)"
   ],
   "id": "c6ca38c85987a676",
   "outputs": [
    {
     "data": {
      "text/plain": [
       "235"
      ]
     },
     "execution_count": 23,
     "metadata": {},
     "output_type": "execute_result"
    }
   ],
   "execution_count": 23
  },
  {
   "metadata": {
    "ExecuteTime": {
     "end_time": "2025-04-14T10:49:38.702809Z",
     "start_time": "2025-04-14T10:49:38.697240Z"
    }
   },
   "cell_type": "code",
   "source": "device = torch.device(\"cuda\") if torch.cuda.is_available() else torch.device(\"cpu\")",
   "id": "61a2fb86c10d6ec7",
   "outputs": [],
   "execution_count": 24
  },
  {
   "metadata": {
    "ExecuteTime": {
     "end_time": "2025-04-14T10:49:38.733564Z",
     "start_time": "2025-04-14T10:49:38.725382Z"
    }
   },
   "cell_type": "code",
   "source": "loss_func = nn.CrossEntropyLoss()",
   "id": "707e389f0f232aae",
   "outputs": [],
   "execution_count": 25
  },
  {
   "metadata": {
    "ExecuteTime": {
     "end_time": "2025-04-14T10:49:38.762947Z",
     "start_time": "2025-04-14T10:49:38.752559Z"
    }
   },
   "cell_type": "code",
   "source": [
    "def train_model(model, train_dataloader, loss_func, optimizer):\n",
    "    \"\"\" 模型训练函数 \"\"\"\n",
    "    model.train()\n",
    "    total_loss = 0.\n",
    "    for x, y in train_dataloader:\n",
    "        # x: [batch_size, 1, 28, 28]\n",
    "        # y: [batch_size]\n",
    "        y_hat = model(x.view(x.shape[0], -1).to(device))\n",
    "        loss = loss_func(y_hat, y.to(device))\n",
    "\n",
    "        optimizer.zero_grad()\n",
    "        loss.backward()\n",
    "        optimizer.step()\n",
    "\n",
    "        total_loss += loss.item()\n",
    "    return total_loss / len(train_dataloader)\n",
    "\n",
    "\n",
    "def test_model(model, test_dataloader, loss_func):\n",
    "    \"\"\" 模型测试函数 \"\"\"\n",
    "    model.eval()\n",
    "    total_loss = 0.\n",
    "    for x, y in test_dataloader:\n",
    "        # x: [batch_size, 1, 28, 28]\n",
    "        # y: [batch_size]\n",
    "        y_hat = model(x.view(x.shape[0], -1).to(device))\n",
    "        loss = loss_func(y_hat, y.to(device))\n",
    "\n",
    "        total_loss += loss.item()\n",
    "    return total_loss / len(test_dataloader)"
   ],
   "id": "9794620177126cdf",
   "outputs": [],
   "execution_count": 26
  },
  {
   "metadata": {
    "ExecuteTime": {
     "end_time": "2025-04-14T10:49:38.797632Z",
     "start_time": "2025-04-14T10:49:38.787212Z"
    }
   },
   "cell_type": "code",
   "source": [
    "optimizer = torch.optim.SGD(model.parameters(), lr=1e-3)\n",
    "n_epoch= 50"
   ],
   "id": "447a236781d28391",
   "outputs": [],
   "execution_count": 27
  },
  {
   "metadata": {
    "ExecuteTime": {
     "end_time": "2025-04-14T10:58:31.509879Z",
     "start_time": "2025-04-14T10:49:38.823871Z"
    }
   },
   "cell_type": "code",
   "source": [
    "train_loss_list = []\n",
    "test_loss_list = []\n",
    "for i in range(n_epoch):\n",
    "    train_loss = train_model(model, train_dataloader, loss_func, optimizer)\n",
    "    test_loss = test_model(model, train_dataloader, loss_func)\n",
    "\n",
    "    train_loss_list.append(train_loss)\n",
    "    test_loss_list.append(test_loss)\n",
    "    print(train_loss)"
   ],
   "id": "708895241c320e77",
   "outputs": [
    {
     "name": "stdout",
     "output_type": "stream",
     "text": [
      "2.2567722635066256\n",
      "2.1378272604435047\n",
      "2.0260196827827617\n",
      "1.9121774851007665\n",
      "1.7953996627888782\n",
      "1.6802991385155537\n",
      "1.572428368000274\n",
      "1.4752372021370745\n",
      "1.3898007032719064\n",
      "1.3161515038064187\n",
      "1.252156747148392\n",
      "1.196826976410886\n",
      "1.149281165447641\n",
      "1.1076817192929855\n",
      "1.0712275378247524\n",
      "1.0389668941497803\n",
      "1.0109317705986347\n",
      "0.9855038267500857\n",
      "0.962571648333935\n",
      "0.9419921030389502\n",
      "0.9231919638654019\n",
      "0.9060456679222432\n",
      "0.8903017262195019\n",
      "0.8762499296918829\n",
      "0.862791885213649\n",
      "0.850140088923434\n",
      "0.8382334795403987\n",
      "0.8276462032439861\n",
      "0.8174134251919198\n",
      "0.8075147288910887\n",
      "0.7989781088017402\n",
      "0.7902349669882591\n",
      "0.7821852288347609\n",
      "0.7744405482677703\n",
      "0.767171374280402\n",
      "0.7599777520971095\n",
      "0.7529216964194115\n",
      "0.7468604841130845\n",
      "0.7404836634372143\n",
      "0.7346247383888732\n",
      "0.7289153165005623\n",
      "0.7232598563458057\n",
      "0.717672425128044\n",
      "0.7124157474396077\n",
      "0.7074202945891847\n",
      "0.7028587714154669\n",
      "0.6978731474977858\n",
      "0.6938407149720699\n",
      "0.6888243586459059\n",
      "0.6847205785994834\n"
     ]
    }
   ],
   "execution_count": 28
  },
  {
   "metadata": {
    "ExecuteTime": {
     "end_time": "2025-04-14T10:58:31.963250Z",
     "start_time": "2025-04-14T10:58:31.589059Z"
    }
   },
   "cell_type": "code",
   "source": [
    "import matplotlib.pyplot as plt\n",
    "import os\n",
    "os.environ['KMP_DUPLICATE_LIB_OK'] = 'True'\n",
    "\n",
    "plt.figure(figsize=(12, 8))\n",
    "plt.plot(train_loss_list, label=\"train loss\")\n",
    "plt.plot(test_loss_list, label=\"test loss\")\n",
    "plt.title(\"Model Loss\")\n",
    "plt.grid()\n",
    "plt.legend()\n",
    "plt.show()"
   ],
   "id": "f8e1d0b9ad5c843d",
   "outputs": [
    {
     "data": {
      "text/plain": [
       "<Figure size 1200x800 with 1 Axes>"
      ],
      "image/png": "[encoded data removed]"
     },
     "metadata": {},
     "output_type": "display_data"
    }
   ],
   "execution_count": 29
  },
  {
   "metadata": {},
   "cell_type": "markdown",
   "source": [
    "用**LeNet**经典卷积神经网络对Fashion - MNIST数据集中的服装图像进行**分类识别**\n",
    "---"
   ],
   "id": "9f8ac7a13b5c1e0c"
  },
  {
   "metadata": {
    "ExecuteTime": {
     "end_time": "2025-04-14T10:58:32.027212Z",
     "start_time": "2025-04-14T10:58:32.013625Z"
    }
   },
   "cell_type": "code",
   "source": [
    "class LeNet(nn.Module):\n",
    "    \"\"\" 二维卷积神经网络分类模型 \"\"\"\n",
    "    def __init__(self):\n",
    "        super().__init__()\n",
    "        self.conv = nn.Sequential(nn.Conv2d(1, 6, kernel_size=5, padding=2),\n",
    "                                  nn.Sigmoid(),\n",
    "                                  nn.AvgPool2d(kernel_size=2, stride=2),\n",
    "\n",
    "                                  nn.Conv2d(6, 16, kernel_size=5),\n",
    "                                  nn.Sigmoid(),\n",
    "                                  nn.AvgPool2d(kernel_size=2, stride=2))\n",
    "        self.flatten = nn.Flatten()\n",
    "        self.fc = nn.Sequential(nn.Linear(16*5*5, 120),\n",
    "                                nn.Sigmoid(),\n",
    "\n",
    "                                nn.Linear(120, 84),\n",
    "                                nn.Sigmoid(),\n",
    "\n",
    "                                nn.Linear(84, 10))\n",
    "\n",
    "    def forward(self, x):\n",
    "        \"\"\" 前向传播方法 \"\"\"\n",
    "        feat_map = self.conv(x)\n",
    "        output = self.flatten(feat_map)\n",
    "        return self.fc(output)"
   ],
   "id": "68410ccf2cf86a70",
   "outputs": [],
   "execution_count": 30
  },
  {
   "metadata": {
    "ExecuteTime": {
     "end_time": "2025-04-14T10:58:32.058415Z",
     "start_time": "2025-04-14T10:58:32.046499Z"
    }
   },
   "cell_type": "code",
   "source": [
    "model = LeNet()\n",
    "model"
   ],
   "id": "47494c074dc93962",
   "outputs": [
    {
     "data": {
      "text/plain": [
       "LeNet(\n",
       "  (conv): Sequential(\n",
       "    (0): Conv2d(1, 6, kernel_size=(5, 5), stride=(1, 1), padding=(2, 2))\n",
       "    (1): Sigmoid()\n",
       "    (2): AvgPool2d(kernel_size=2, stride=2, padding=0)\n",
       "    (3): Conv2d(6, 16, kernel_size=(5, 5), stride=(1, 1))\n",
       "    (4): Sigmoid()\n",
       "    (5): AvgPool2d(kernel_size=2, stride=2, padding=0)\n",
       "  )\n",
       "  (flatten): Flatten(start_dim=1, end_dim=-1)\n",
       "  (fc): Sequential(\n",
       "    (0): Linear(in_features=400, out_features=120, bias=True)\n",
       "    (1): Sigmoid()\n",
       "    (2): Linear(in_features=120, out_features=84, bias=True)\n",
       "    (3): Sigmoid()\n",
       "    (4): Linear(in_features=84, out_features=10, bias=True)\n",
       "  )\n",
       ")"
      ]
     },
     "execution_count": 31,
     "metadata": {},
     "output_type": "execute_result"
    }
   ],
   "execution_count": 31
  },
  {
   "metadata": {
    "ExecuteTime": {
     "end_time": "2025-04-14T10:58:32.126162Z",
     "start_time": "2025-04-14T10:58:32.109469Z"
    }
   },
   "cell_type": "code",
   "source": [
    "img, label = mnist_train[0]\n",
    "output = model(img.unsqueeze(0))\n",
    "print(output)"
   ],
   "id": "23ebde0b4fce10c5",
   "outputs": [
    {
     "name": "stdout",
     "output_type": "stream",
     "text": [
      "tensor([[ 0.1813,  0.1245,  0.1591,  0.1797,  0.2100, -0.1589,  0.3281, -0.1339,\n",
      "          0.2138,  0.5918]], grad_fn=<AddmmBackward0>)\n"
     ]
    }
   ],
   "execution_count": 32
  },
  {
   "metadata": {},
   "cell_type": "markdown",
   "source": [
    "---\n",
    "---\n",
    "---"
   ],
   "id": "c6f3f471242ed42b"
  },
  {
   "metadata": {},
   "cell_type": "markdown",
   "source": [
    "**现代**卷积神经网络  :\n",
    "-------------"
   ],
   "id": "8559447865dbd10a"
  },
  {
   "metadata": {},
   "cell_type": "markdown",
   "source": [
    "**发展史**\n",
    "- LeNet `卷积神经网络` (1990.)\n",
    "- AlexNet `深度卷积神经网络`  (2012.)\n",
    "- VGG `模块化的卷积神经网络` (2014.)\n",
    "- ResNet `残差结构的卷积神经网络` (2016.)\n",
    "- DenseNet `稠密卷积神经网络` (2017.)\n",
    "- FAST-CNN / FAST-RCNN .....\n",
    "- YOLOv1 - YOLOv12 (2016. - 2025.)"
   ],
   "id": "42e5f205b7c4ef04"
  },
  {
   "metadata": {},
   "cell_type": "markdown",
   "source": [
    "**AlexNet**模型\n",
    "---"
   ],
   "id": "f15e75e67b90dc59"
  },
  {
   "metadata": {},
   "cell_type": "markdown",
   "source": [
    "- `ImageNet 数据集` (3 x 224 x 224)\n",
    "- 1个11x11的大卷积层，然后跟着5x5中型卷积层，再紧接着连续三个3x3的卷积层\n",
    "- 激活函数从 Sigmoid 换成了 ReLU\n",
    "- ![1](https://zh.d2l.ai/_images/alexnet.svg)"
   ],
   "id": "c85bc98710886f4"
  },
  {
   "metadata": {},
   "cell_type": "markdown",
   "source": "AlexNet模型的建构",
   "id": "c5c5d144db788cba"
  },
  {
   "metadata": {
    "ExecuteTime": {
     "end_time": "2025-04-14T12:00:32.395244Z",
     "start_time": "2025-04-14T12:00:32.384562Z"
    }
   },
   "cell_type": "code",
   "source": [
    "import torch\n",
    "import torch.nn as nn\n",
    "\n",
    "class AlexNet(nn.Module):\n",
    "    \"\"\" AlexNet 深层卷积神经网络 \"\"\"\n",
    "    def __init__(self):\n",
    "        super().__init__()\n",
    "        # 卷积层\n",
    "        self.conv = nn.Sequential(nn.Conv2d(1, 96, kernel_size=11, stride=4, padding=1),\n",
    "                                  nn.ReLU(),\n",
    "                                  nn.MaxPool2d(kernel_size=3, stride=2),\n",
    "\n",
    "                                  nn.Conv2d(96, 256, kernel_size=5, padding=2),\n",
    "                                  nn.ReLU(),\n",
    "                                  nn.MaxPool2d(kernel_size=3, stride=2),\n",
    "\n",
    "                                  # 使用3个连续的 3x3 卷积层\n",
    "                                  nn.Conv2d(256, 384, kernel_size=3, padding=1),\n",
    "                                  nn.ReLU(),\n",
    "                                  nn.Conv2d(384, 384, kernel_size=3, padding=1),\n",
    "                                  nn.ReLU(),\n",
    "                                  nn.Conv2d(384, 256, kernel_size=3, padding=1),\n",
    "                                  nn.ReLU(),\n",
    "                                  nn.MaxPool2d(kernel_size=3, stride=2),\n",
    "\n",
    "                                  nn.Flatten())\n",
    "\n",
    "        self.fc = nn.Sequential(nn.Linear(5*5*256, 4096),\n",
    "                                nn.ReLU(),\n",
    "                                nn.Linear(4096, 4096),\n",
    "                                nn.ReLU(),\n",
    "                                nn.Linear(4096, 10))\n",
    "\n",
    "    def forward(self, x):\n",
    "        \"\"\" 前向传播方法 \"\"\"\n",
    "        x_flatten = self.conv(x)\n",
    "        return self.fc(x_flatten)"
   ],
   "id": "3be0e2d2aa724345",
   "outputs": [],
   "execution_count": 73
  },
  {
   "metadata": {},
   "cell_type": "markdown",
   "source": [
    "开始对数据集进行分类训练  ：\n",
    "\n",
    "---\n"
   ],
   "id": "7697ca65f1ef071c"
  },
  {
   "metadata": {
    "ExecuteTime": {
     "end_time": "2025-04-14T12:00:34.364008Z",
     "start_time": "2025-04-14T12:00:34.282173Z"
    }
   },
   "cell_type": "code",
   "source": [
    "import torchvision\n",
    "import torchvision.transforms as transforms\n",
    "from torch.utils import data\n",
    "from torch.utils.data import DataLoader\n",
    "\n",
    "trans = transforms.Compose([transforms.ToTensor(),\n",
    "                            transforms.Resize((224, 224))])\n",
    "\n",
    "mnist_train = torchvision.datasets.FashionMNIST(root=\"../data\", train=True, transform=trans, download=True)\n",
    "mnist_test = torchvision.datasets.FashionMNIST(root=\"../data\", train=False, transform=trans, download=True)\n",
    "\n",
    "len(mnist_train), len(mnist_test)\n",
    "train_dataloader = DataLoader(mnist_train, batch_size=256, shuffle=True)\n",
    "test_dataloader = DataLoader(mnist_test, batch_size=256, shuffle=False)\n",
    "\n",
    "len(train_dataloader), len(test_dataloader)"
   ],
   "id": "90918f636d184c8b",
   "outputs": [
    {
     "data": {
      "text/plain": [
       "(235, 40)"
      ]
     },
     "execution_count": 74,
     "metadata": {},
     "output_type": "execute_result"
    }
   ],
   "execution_count": 74
  },
  {
   "metadata": {
    "ExecuteTime": {
     "end_time": "2025-04-14T12:00:34.565484Z",
     "start_time": "2025-04-14T12:00:34.551469Z"
    }
   },
   "cell_type": "code",
   "source": [
    "device = torch.device(\"cuda\") if torch.cuda.is_available() else torch.device(\"cpu\")\n",
    "device"
   ],
   "id": "a90ae73d070e71b5",
   "outputs": [
    {
     "data": {
      "text/plain": [
       "device(type='cpu')"
      ]
     },
     "execution_count": 75,
     "metadata": {},
     "output_type": "execute_result"
    }
   ],
   "execution_count": 75
  },
  {
   "metadata": {
    "ExecuteTime": {
     "end_time": "2025-04-14T12:00:34.942032Z",
     "start_time": "2025-04-14T12:00:34.723641Z"
    }
   },
   "cell_type": "code",
   "source": [
    "model_AlexNet = AlexNet().to(device)\n",
    "model_AlexNet"
   ],
   "id": "e958b9f23f90bc50",
   "outputs": [
    {
     "data": {
      "text/plain": [
       "AlexNet(\n",
       "  (conv): Sequential(\n",
       "    (0): Conv2d(1, 96, kernel_size=(11, 11), stride=(4, 4), padding=(1, 1))\n",
       "    (1): ReLU()\n",
       "    (2): MaxPool2d(kernel_size=3, stride=2, padding=0, dilation=1, ceil_mode=False)\n",
       "    (3): Conv2d(96, 256, kernel_size=(5, 5), stride=(1, 1), padding=(2, 2))\n",
       "    (4): ReLU()\n",
       "    (5): MaxPool2d(kernel_size=3, stride=2, padding=0, dilation=1, ceil_mode=False)\n",
       "    (6): Conv2d(256, 384, kernel_size=(3, 3), stride=(1, 1), padding=(1, 1))\n",
       "    (7): ReLU()\n",
       "    (8): Conv2d(384, 384, kernel_size=(3, 3), stride=(1, 1), padding=(1, 1))\n",
       "    (9): ReLU()\n",
       "    (10): Conv2d(384, 256, kernel_size=(3, 3), stride=(1, 1), padding=(1, 1))\n",
       "    (11): ReLU()\n",
       "    (12): MaxPool2d(kernel_size=3, stride=2, padding=0, dilation=1, ceil_mode=False)\n",
       "    (13): Flatten(start_dim=1, end_dim=-1)\n",
       "  )\n",
       "  (fc): Sequential(\n",
       "    (0): Linear(in_features=6400, out_features=4096, bias=True)\n",
       "    (1): ReLU()\n",
       "    (2): Linear(in_features=4096, out_features=4096, bias=True)\n",
       "    (3): ReLU()\n",
       "    (4): Linear(in_features=4096, out_features=10, bias=True)\n",
       "  )\n",
       ")"
      ]
     },
     "execution_count": 76,
     "metadata": {},
     "output_type": "execute_result"
    }
   ],
   "execution_count": 76
  },
  {
   "metadata": {
    "ExecuteTime": {
     "end_time": "2025-04-14T12:00:35.083853Z",
     "start_time": "2025-04-14T12:00:35.066510Z"
    }
   },
   "cell_type": "code",
   "source": [
    "def count_parameters(model_AlexNet: nn.Module):\n",
    "    \"\"\" 计算模型参数量函数 \"\"\"\n",
    "    return sum(p.numel() for p in model_AlexNet.parameters())\n",
    "\n",
    "count_parameters(model_AlexNet)"
   ],
   "id": "5a19c448acf360a0",
   "outputs": [
    {
     "data": {
      "text/plain": [
       "46764746"
      ]
     },
     "execution_count": 77,
     "metadata": {},
     "output_type": "execute_result"
    }
   ],
   "execution_count": 77
  },
  {
   "metadata": {
    "ExecuteTime": {
     "end_time": "2025-04-14T12:00:35.415840Z",
     "start_time": "2025-04-14T12:00:35.269682Z"
    }
   },
   "cell_type": "code",
   "source": [
    "x, y = next(iter(train_dataloader))\n",
    "x.shape, y.shape"
   ],
   "id": "f6550ed09e276605",
   "outputs": [
    {
     "data": {
      "text/plain": [
       "(torch.Size([256, 1, 224, 224]), torch.Size([256]))"
      ]
     },
     "execution_count": 78,
     "metadata": {},
     "output_type": "execute_result"
    }
   ],
   "execution_count": 78
  },
  {
   "metadata": {
    "ExecuteTime": {
     "end_time": "2025-04-14T12:00:35.448388Z",
     "start_time": "2025-04-14T12:00:35.440905Z"
    }
   },
   "cell_type": "code",
   "source": [
    "def train_model(model_AlexNet, train_dataloader, loss_func, optimizer):\n",
    "    \"\"\" 模型训练函数 \"\"\"\n",
    "    model_AlexNet.train()\n",
    "    total_loss = 0.\n",
    "    for x, y in train_dataloader:\n",
    "        # x: [bs, 1, 224, 224]\n",
    "        # y: [batch_size]\n",
    "        y_hat = model_AlexNet(x.to(device))\n",
    "        loss = loss_func(y_hat, y.to(device))\n",
    "\n",
    "        optimizer.zero_grad()\n",
    "        loss.backward()\n",
    "        optimizer.step()\n",
    "\n",
    "        total_loss += loss.item()\n",
    "    return total_loss / len(train_dataloader)\n",
    "\n",
    "def test_model(model_AlexNet, test_dataloader, loss_func):\n",
    "    \"\"\" 模型测试函数 \"\"\"\n",
    "    model_AlexNet.eval()\n",
    "\n",
    "    y_true = 0\n",
    "    total_loss = 0.\n",
    "    for x, y in test_dataloader:\n",
    "        # x: [bs, 1, 224, 224]\n",
    "        # y: [batch_size]\n",
    "        y_hat = model_AlexNet(x.to(device))\n",
    "        loss = loss_func(y_hat, y.to(device))\n",
    "\n",
    "        y_true += (y == torch.argmax(y_hat, dim=-1)).sum().item()   #很重要的一步，原理是是布尔值求和，True=1,False=0\n",
    "\n",
    "        total_loss += loss.item()\n",
    "\n",
    "    avg_loss = total_loss / len(test_dataloader)\n",
    "    acc = round(y_true / len(test_dataloader.dataset), 3)  #round是四舍五入函数\n",
    "    return avg_loss, acc"
   ],
   "id": "be84df275df52d38",
   "outputs": [],
   "execution_count": 79
  },
  {
   "metadata": {
    "ExecuteTime": {
     "end_time": "2025-04-14T12:00:36.190951Z",
     "start_time": "2025-04-14T12:00:35.983993Z"
    }
   },
   "cell_type": "code",
   "source": [
    "model_AlexNet = AlexNet().to(device)\n",
    "loss_func = nn.CrossEntropyLoss()\n",
    "optimizer = torch.optim.Adam(model_AlexNet.parameters(), lr=1e-3)"
   ],
   "id": "fd749948bc56c0a9",
   "outputs": [],
   "execution_count": 80
  },
  {
   "metadata": {
    "jupyter": {
     "is_executing": true
    },
    "ExecuteTime": {
     "start_time": "2025-04-14T12:00:37.232282Z"
    }
   },
   "cell_type": "code",
   "source": [
    "n_epoch = 5\n",
    "\n",
    "train_loss_list = []\n",
    "test_loss_list = []\n",
    "for i in range(n_epoch):\n",
    "    train_loss = train_model(model_AlexNet, train_dataloader, loss_func, optimizer)\n",
    "    test_loss, acc = test_model(model_AlexNet, test_dataloader, loss_func)\n",
    "\n",
    "    train_loss_list.append(train_loss)\n",
    "    test_loss_list.append(test_loss)\n",
    "    print(train_loss)"
   ],
   "id": "6a37c3ddfd8bd4cb",
   "outputs": [
    {
     "name": "stdout",
     "output_type": "stream",
     "text": [
      "0.6573454809949754\n",
      "0.33116132179473307\n",
      "0.2731170620055909\n"
     ]
    }
   ],
   "execution_count": null
  },
  {
   "metadata": {},
   "cell_type": "code",
   "outputs": [],
   "execution_count": null,
   "source": [
    "import matplotlib.pyplot as plt\n",
    "import os\n",
    "os.environ['KMP_DUPLICATE_LIB_OK'] = 'True'\n",
    "\n",
    "plt.figure(figsize=(12, 8))\n",
    "plt.plot(train_loss_list, label=\"train loss\")\n",
    "plt.plot(test_loss_list, label=\"test loss\")\n",
    "plt.title(\"Model Loss\")\n",
    "plt.grid()\n",
    "plt.legend()\n",
    "plt.show()"
   ],
   "id": "1bc40926d9dd8760"
  },
  {
   "metadata": {},
   "cell_type": "markdown",
   "source": [
    "**VGG**  视觉几何组（visual geometry group）\n",
    "---"
   ],
   "id": "42264c2976cf621"
  },
  {
   "metadata": {},
   "cell_type": "markdown",
   "source": "- 模块化的卷积神经网络",
   "id": "f0894d55c70717a0"
  },
  {
   "metadata": {},
   "cell_type": "markdown",
   "source": "![VGG网络结构图](https://zh.d2l.ai/_images/vgg.svg)",
   "id": "929a7919e87d77a2"
  },
  {
   "metadata": {},
   "cell_type": "code",
   "outputs": [],
   "execution_count": null,
   "source": [
    "def vgg_block(num_conv: int, in_channels: int, out_channels: int) -> nn.Module:\n",
    "    \"\"\" VGG块构建函数 \"\"\"\n",
    "    layers = []\n",
    "    for i in range(num_conv):\n",
    "        layers.append(nn.Conv2d(in_channels, out_channels, kernel_size=3, padding=1))\n",
    "        layers.append(nn.ReLU())\n",
    "        in_channels = out_channels\n",
    "    layers.append(nn.MaxPool2d(kernel_size=2, stride=2))\n",
    "    return nn.Sequential(*layers)"
   ],
   "id": "dab488e9d853a6d0"
  },
  {
   "metadata": {},
   "cell_type": "code",
   "outputs": [],
   "execution_count": null,
   "source": [
    "def vgg(conv_arch: list) -> nn.Module:\n",
    "    \"\"\" VGG网络构建函数 \"\"\"\n",
    "    conv_block = []\n",
    "    in_channels = 1\n",
    "    # 卷积部分\n",
    "    for (num_conv, out_channels) in conv_arch:\n",
    "        conv_block.append(vgg_block(num_conv, in_channels, out_channels))\n",
    "        in_channels = out_channels\n",
    "\n",
    "    # 全连接部分\n",
    "    model = nn.Sequential(*conv_block,\n",
    "                          nn.Flatten(),\n",
    "\n",
    "                          nn.Linear(7*7*out_channels, 4096),\n",
    "                          nn.ReLU(),\n",
    "                          nn.Linear(4096, 4096),\n",
    "                          nn.ReLU(),\n",
    "                          nn.Linear(4096, 10))\n",
    "    return model"
   ],
   "id": "12e08ecb1cc9ce3"
  },
  {
   "metadata": {},
   "cell_type": "code",
   "outputs": [],
   "execution_count": null,
   "source": [
    "conv_arch = [(1, 16), (1, 16), (2, 64), (2, 64), (2, 32)]\n",
    "vgg(conv_arch).shape\n"
   ],
   "id": "d29beae49c7345d"
  },
  {
   "metadata": {},
   "cell_type": "code",
   "outputs": [],
   "execution_count": null,
   "source": "",
   "id": "9c7ea83b888e2831"
  }
 ],
 "metadata": {
  "kernelspec": {
   "display_name": "Python 3",
   "language": "python",
   "name": "python3"
  },
  "language_info": {
   "codemirror_mode": {
    "name": "ipython",
    "version": 2
   },
   "file_extension": ".py",
   "mimetype": "text/x-python",
   "name": "python",
   "nbconvert_exporter": "python",
   "pygments_lexer": "ipython2",
   "version": "2.7.6"
  }
 },
 "nbformat": 4,
 "nbformat_minor": 5
}
